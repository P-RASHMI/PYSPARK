{
 "cells": [
  {
   "cell_type": "code",
   "execution_count": 1,
   "id": "bd1d6d6d",
   "metadata": {},
   "outputs": [
    {
     "name": "stderr",
     "output_type": "stream",
     "text": [
      "                                                                                \r"
     ]
    },
    {
     "data": {
      "text/plain": [
       "[1, 2, 3, 4, 5, 6, 7, 8, 9]"
      ]
     },
     "execution_count": 1,
     "metadata": {},
     "output_type": "execute_result"
    }
   ],
   "source": [
    "'''\n",
    "@Author: Rashmi\n",
    "@Date: 2021-11-16 21:11\n",
    "@Last Modified by: Rashmi\n",
    "@Last Modified time: 2021-11-16 22:10\n",
    "@Title :Performing basic operations with pyspark \n",
    "'''\n",
    "num = sc.parallelize(range(1,10))\n",
    "num.collect()"
   ]
  },
  {
   "cell_type": "code",
   "execution_count": 6,
   "id": "c040dcd0",
   "metadata": {},
   "outputs": [
    {
     "data": {
      "text/plain": [
       "4"
      ]
     },
     "execution_count": 6,
     "metadata": {},
     "output_type": "execute_result"
    }
   ],
   "source": [
    "''' gets partitions depending on core'''\n",
    "num.getNumPartitions()\n"
   ]
  },
  {
   "cell_type": "code",
   "execution_count": 7,
   "id": "e40d631d",
   "metadata": {},
   "outputs": [
    {
     "data": {
      "text/plain": [
       "8"
      ]
     },
     "execution_count": 7,
     "metadata": {},
     "output_type": "execute_result"
    }
   ],
   "source": [
    "'''giving partitions '''\n",
    "num = sc.parallelize(range(1,10),8)\n",
    "num.getNumPartitions()"
   ]
  },
  {
   "cell_type": "code",
   "execution_count": 8,
   "id": "3c645feb",
   "metadata": {},
   "outputs": [
    {
     "data": {
      "text/plain": [
       "10"
      ]
     },
     "execution_count": 8,
     "metadata": {},
     "output_type": "execute_result"
    }
   ],
   "source": [
    "'''use of repartition ---can be used for increasing and decreasing but preferably used for \n",
    "increasing; to increase from 8 to 10'''\n",
    "num2 = num.repartition(10)\n",
    "num2.getNumPartitions()"
   ]
  },
  {
   "cell_type": "code",
   "execution_count": 9,
   "id": "9a72f213",
   "metadata": {},
   "outputs": [
    {
     "data": {
      "text/plain": [
       "5"
      ]
     },
     "execution_count": 9,
     "metadata": {},
     "output_type": "execute_result"
    }
   ],
   "source": [
    "'''to reduce no of partitions using coalesce from 10 to 5'''\n",
    "num3 = num2.coalesce(5)\n",
    "num3.getNumPartitions()"
   ]
  },
  {
   "cell_type": "code",
   "execution_count": 10,
   "id": "23a4ea83",
   "metadata": {},
   "outputs": [
    {
     "data": {
      "text/plain": [
       "['Birdie Birdie in the sky laid a turdie in my eye If cow could fly I’d have a cow pie in my eye',\n",
       " 'Hi this is sample program for wordcount Hi this is to execute wordcount of the we get count of words',\n",
       " 'Hi this is sample program for wordcount Hi this is to execute wordcount of the input data the words are incremented',\n",
       " 'we get count of words',\n",
       " 'hi hello',\n",
       " 'welcome to spark']"
      ]
     },
     "execution_count": 10,
     "metadata": {},
     "output_type": "execute_result"
    }
   ],
   "source": [
    "'''to take the file locally print the data of the file using collect()'''\n",
    "file_obj = sc.textFile(\"file:///home/lenovo/textfile.txt\")\n",
    "file_obj.collect()\n"
   ]
  },
  {
   "cell_type": "code",
   "execution_count": 11,
   "id": "b97532ae",
   "metadata": {},
   "outputs": [
    {
     "data": {
      "text/plain": [
       "['Birdie Birdie in the sky laid a turdie in my eye If cow could fly I’d have a cow pie in my eye',\n",
       " 'Hi this is sample program for wordcount Hi this is to execute wordcount of the we get count of words']"
      ]
     },
     "execution_count": 11,
     "metadata": {},
     "output_type": "execute_result"
    }
   ],
   "source": [
    "'''to take the first two lines using take()'''\n",
    "file_obj.take(2)"
   ]
  },
  {
   "cell_type": "code",
   "execution_count": 12,
   "id": "7b8a770e",
   "metadata": {},
   "outputs": [
    {
     "data": {
      "text/plain": [
       "list"
      ]
     },
     "execution_count": 12,
     "metadata": {},
     "output_type": "execute_result"
    }
   ],
   "source": [
    "'''to get the type '''\n",
    "type(file_obj.take(2))"
   ]
  },
  {
   "cell_type": "code",
   "execution_count": 13,
   "id": "739caa05",
   "metadata": {},
   "outputs": [
    {
     "data": {
      "text/plain": [
       "pyspark.rdd.RDD"
      ]
     },
     "execution_count": 13,
     "metadata": {},
     "output_type": "execute_result"
    }
   ],
   "source": [
    "'''to get the type of file_obj'''\n",
    "type(file_obj)\n"
   ]
  },
  {
   "cell_type": "code",
   "execution_count": 14,
   "id": "f5dc5dc8",
   "metadata": {},
   "outputs": [
    {
     "data": {
      "text/plain": [
       "6"
      ]
     },
     "execution_count": 14,
     "metadata": {},
     "output_type": "execute_result"
    }
   ],
   "source": [
    "'''use of count to get the no. of elements or rows '''\n",
    "file_obj.count()"
   ]
  },
  {
   "cell_type": "code",
   "execution_count": 15,
   "id": "c4c98b57",
   "metadata": {},
   "outputs": [
    {
     "data": {
      "text/plain": [
       "'Birdie Birdie in the sky laid a turdie in my eye If cow could fly I’d have a cow pie in my eye'"
      ]
     },
     "execution_count": 15,
     "metadata": {},
     "output_type": "execute_result"
    }
   ],
   "source": [
    "'''to get first line'''\n",
    "file_obj.first()"
   ]
  },
  {
   "cell_type": "code",
   "execution_count": 18,
   "id": "693fc2e9",
   "metadata": {},
   "outputs": [
    {
     "data": {
      "text/plain": [
       "['Birdie', 'Birdie', 'in', 'the', 'sky']"
      ]
     },
     "execution_count": 18,
     "metadata": {},
     "output_type": "execute_result"
    }
   ],
   "source": [
    "'''To get flattened data using flatMap() transformation'''\n",
    "list_created = file_obj.flatMap(lambda line : line.split(\" \"))\n",
    "list_created.take(5)"
   ]
  },
  {
   "cell_type": "code",
   "execution_count": 21,
   "id": "90ca1e70",
   "metadata": {},
   "outputs": [
    {
     "data": {
      "text/plain": [
       "[['Birdie',\n",
       "  'Birdie',\n",
       "  'in',\n",
       "  'the',\n",
       "  'sky',\n",
       "  'laid',\n",
       "  'a',\n",
       "  'turdie',\n",
       "  'in',\n",
       "  'my',\n",
       "  'eye',\n",
       "  'If',\n",
       "  'cow',\n",
       "  'could',\n",
       "  'fly',\n",
       "  'I’d',\n",
       "  'have',\n",
       "  'a',\n",
       "  'cow',\n",
       "  'pie',\n",
       "  'in',\n",
       "  'my',\n",
       "  'eye'],\n",
       " ['Hi',\n",
       "  'this',\n",
       "  'is',\n",
       "  'sample',\n",
       "  'program',\n",
       "  'for',\n",
       "  'wordcount',\n",
       "  'Hi',\n",
       "  'this',\n",
       "  'is',\n",
       "  'to',\n",
       "  'execute',\n",
       "  'wordcount',\n",
       "  'of',\n",
       "  'the',\n",
       "  'we',\n",
       "  'get',\n",
       "  'count',\n",
       "  'of',\n",
       "  'words'],\n",
       " ['Hi',\n",
       "  'this',\n",
       "  'is',\n",
       "  'sample',\n",
       "  'program',\n",
       "  'for',\n",
       "  'wordcount',\n",
       "  'Hi',\n",
       "  'this',\n",
       "  'is',\n",
       "  'to',\n",
       "  'execute',\n",
       "  'wordcount',\n",
       "  'of',\n",
       "  'the',\n",
       "  'input',\n",
       "  'data',\n",
       "  'the',\n",
       "  'words',\n",
       "  'are',\n",
       "  'incremented']]"
      ]
     },
     "execution_count": 21,
     "metadata": {},
     "output_type": "execute_result"
    }
   ],
   "source": [
    "'''To apply lambda function using map transformation'''\n",
    "list_created = file_obj.map(lambda line : line.split(\" \"))\n",
    "list_created.take(3)"
   ]
  }
 ],
 "metadata": {
  "kernelspec": {
   "display_name": "Python 3 (ipykernel)",
   "language": "python",
   "name": "python3"
  },
  "language_info": {
   "codemirror_mode": {
    "name": "ipython",
    "version": 3
   },
   "file_extension": ".py",
   "mimetype": "text/x-python",
   "name": "python",
   "nbconvert_exporter": "python",
   "pygments_lexer": "ipython3",
   "version": "3.8.10"
  }
 },
 "nbformat": 4,
 "nbformat_minor": 5
}
