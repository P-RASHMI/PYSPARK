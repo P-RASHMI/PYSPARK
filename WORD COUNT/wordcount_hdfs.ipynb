{
 "cells": [
  {
   "cell_type": "code",
   "execution_count": 3,
   "id": "650c35a1",
   "metadata": {},
   "outputs": [
    {
     "data": {
      "text/plain": [
       "[('in', 3),\n",
       " ('sky', 1),\n",
       " ('cow', 2),\n",
       " ('fly', 1),\n",
       " ('have', 1),\n",
       " ('pie', 1),\n",
       " ('Hi', 4),\n",
       " ('this', 4),\n",
       " ('is', 4),\n",
       " ('execute', 2),\n",
       " ('of', 4),\n",
       " ('we', 2),\n",
       " ('count', 2),\n",
       " ('input', 1),\n",
       " ('are', 1),\n",
       " ('Birdie', 2),\n",
       " ('the', 4),\n",
       " ('laid', 1),\n",
       " ('a', 2),\n",
       " ('turdie', 1),\n",
       " ('my', 2),\n",
       " ('eye', 2),\n",
       " ('If', 1),\n",
       " ('could', 1),\n",
       " ('I’d', 1),\n",
       " ('sample', 2),\n",
       " ('program', 2),\n",
       " ('for', 2),\n",
       " ('wordcount', 4),\n",
       " ('to', 3),\n",
       " ('get', 2),\n",
       " ('words', 3),\n",
       " ('data', 1),\n",
       " ('incremented', 1),\n",
       " ('hi', 1),\n",
       " ('hello', 1),\n",
       " ('welcome', 1),\n",
       " ('spark', 1)]"
      ]
     },
     "execution_count": 3,
     "metadata": {},
     "output_type": "execute_result"
    }
   ],
   "source": [
    "'''\n",
    "@Author: Rashmi\n",
    "@Date: 2021-11-17 2:33\n",
    "@Last Modified by: Rashmi\n",
    "@Last Modified time: 2021-11-17 2:41\n",
    "@Title :Write a Python program to perform word count by taking the text file from hdfs  \n",
    "'''\n",
    "textfile = sc.textFile(\"hdfs://localhost:9000/word_spark/textfile.txt\")\n",
    "words = textfile.flatMap(lambda line: line.split(\" \"))\n",
    "wordcount = words.map(lambda word : (word,1)).reduceByKey(lambda a,b:a+b)  \n",
    "wordcount.collect()\n"
   ]
  }
 ],
 "metadata": {
  "kernelspec": {
   "display_name": "Python 3 (ipykernel)",
   "language": "python",
   "name": "python3"
  },
  "language_info": {
   "codemirror_mode": {
    "name": "ipython",
    "version": 3
   },
   "file_extension": ".py",
   "mimetype": "text/x-python",
   "name": "python",
   "nbconvert_exporter": "python",
   "pygments_lexer": "ipython3",
   "version": "3.8.10"
  }
 },
 "nbformat": 4,
 "nbformat_minor": 5
}
