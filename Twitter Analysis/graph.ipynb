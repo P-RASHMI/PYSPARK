{
 "cells": [
  {
   "cell_type": "code",
   "execution_count": null,
   "metadata": {},
   "outputs": [],
   "source": [
    "'''To plot the live tweet data of positive and negative tweet\n",
    "from tweetdata.csv file using '''\n",
    "\n",
    "import matplotlib.pyplot as plt\n",
    "from matplotlib.animation import FuncAnimation\n",
    "import pandas as pd\n",
    "%matplotlib\n",
    "\n",
    "def animate_data(i):\n",
    "    data = pd.read_csv('tweetdata.csv')\n",
    "    x1 = data['pos']\n",
    "    x2 = data['neg']\n",
    "    y1 = data['pos_count']\n",
    "    y2 = data['neg_count']\n",
    "    #cla() to clear current axes,#clf to clear entire fig,\n",
    "    #close to clear window \n",
    "    plt.cla() \n",
    "    plt.bar(x1,y1,label=\"positive\",width=0.5)\n",
    "    plt.bar(x2,y2,label=\"negative\",width=0.5)\n",
    "    plt.xlabel(\"Sentiments\")\n",
    "    plt.ylabel(\"Count\")\n",
    "    plt.legend()\n",
    "    plt.tight_layout()\n",
    "\n",
    "ani = FuncAnimation(plt.gcf(), animate_data, interval=1000)\n",
    "\n",
    "plt.tight_layout()\n",
    "plt.show()"
   ]
  }
 ],
 "metadata": {
  "interpreter": {
   "hash": "916dbcbb3f70747c44a77c7bcd40155683ae19c65e1c03b4aa3499c5328201f1"
  },
  "kernelspec": {
   "display_name": "Python 3.8.10 64-bit",
   "name": "python3"
  },
  "language_info": {
   "codemirror_mode": {
    "name": "ipython",
    "version": 3
   },
   "file_extension": ".py",
   "mimetype": "text/x-python",
   "name": "python",
   "nbconvert_exporter": "python",
   "pygments_lexer": "ipython3",
   "version": "3.8.10"
  },
  "orig_nbformat": 4
 },
 "nbformat": 4,
 "nbformat_minor": 2
}
