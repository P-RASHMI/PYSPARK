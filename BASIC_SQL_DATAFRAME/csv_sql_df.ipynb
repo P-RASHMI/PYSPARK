{
 "cells": [
  {
   "cell_type": "code",
   "execution_count": 1,
   "id": "e5b5a2b9",
   "metadata": {},
   "outputs": [],
   "source": [
    "'''\n",
    "@Author: Rashmi\n",
    "@Date: 2021-11-17 1:33\n",
    "@Last Modified by: Rashmi\n",
    "@Last Modified time: 2021-11-17 1:41\n",
    "@Title :To perform Basic SQL queries dataframes,taking the csv file from hdfs  \n",
    "'''\n",
    "from pyspark.sql import *\n",
    "from pyspark.sql import functions as func\n",
    "spark = SparkSession.builder.getOrCreate()"
   ]
  },
  {
   "cell_type": "code",
   "execution_count": 2,
   "id": "5146d4d6",
   "metadata": {},
   "outputs": [
    {
     "name": "stderr",
     "output_type": "stream",
     "text": [
      "                                                                                \r"
     ]
    },
    {
     "name": "stdout",
     "output_type": "stream",
     "text": [
      "+--------+------+------+----+-----+-----+-------+--------+-----+-----+----------+----+-----------+-----+-----+\n",
      "|survived|pclass|   sex| age|sibsp|parch|   fare|embarked|class|  who|adult_male|deck|embark_town|alive|alone|\n",
      "+--------+------+------+----+-----+-----+-------+--------+-----+-----+----------+----+-----------+-----+-----+\n",
      "|       0|     3|  male|22.0|    1|    0|   7.25|       S|Third|  man|      True|null|Southampton|   no|False|\n",
      "|       1|     1|female|38.0|    1|    0|71.2833|       C|First|woman|     False|   C|  Cherbourg|  yes|False|\n",
      "|       1|     3|female|26.0|    0|    0|  7.925|       S|Third|woman|     False|null|Southampton|  yes| True|\n",
      "+--------+------+------+----+-----+-----+-------+--------+-----+-----+----------+----+-----------+-----+-----+\n",
      "only showing top 3 rows\n",
      "\n"
     ]
    }
   ],
   "source": [
    "'''To read the csv file from hdfs and show() to get first 3 rows'''\n",
    "df = spark.read.csv(\"hdfs://localhost:9000/csvspark/titanic.csv\",header=True)\n",
    "df.show(3)"
   ]
  },
  {
   "cell_type": "code",
   "execution_count": 4,
   "id": "5b43356a",
   "metadata": {},
   "outputs": [
    {
     "name": "stdout",
     "output_type": "stream",
     "text": [
      "root\n",
      " |-- survived: string (nullable = true)\n",
      " |-- pclass: string (nullable = true)\n",
      " |-- sex: string (nullable = true)\n",
      " |-- age: string (nullable = true)\n",
      " |-- sibsp: string (nullable = true)\n",
      " |-- parch: string (nullable = true)\n",
      " |-- fare: string (nullable = true)\n",
      " |-- embarked: string (nullable = true)\n",
      " |-- class: string (nullable = true)\n",
      " |-- who: string (nullable = true)\n",
      " |-- adult_male: string (nullable = true)\n",
      " |-- deck: string (nullable = true)\n",
      " |-- embark_town: string (nullable = true)\n",
      " |-- alive: string (nullable = true)\n",
      " |-- alone: string (nullable = true)\n",
      "\n"
     ]
    }
   ],
   "source": [
    "'''To get the schema'''\n",
    "df.printSchema()"
   ]
  },
  {
   "cell_type": "code",
   "execution_count": 5,
   "id": "fc9fe85e",
   "metadata": {},
   "outputs": [
    {
     "name": "stderr",
     "output_type": "stream",
     "text": [
      "                                                                                \r"
     ]
    },
    {
     "data": {
      "text/plain": [
       "DataFrame[summary: string, survived: string, pclass: string, sex: string, age: string, sibsp: string, parch: string, fare: string, embarked: string, class: string, who: string, adult_male: string, deck: string, embark_town: string, alive: string, alone: string]"
      ]
     },
     "execution_count": 5,
     "metadata": {},
     "output_type": "execute_result"
    }
   ],
   "source": [
    "df.describe()"
   ]
  },
  {
   "cell_type": "code",
   "execution_count": 6,
   "id": "39c068ff",
   "metadata": {},
   "outputs": [
    {
     "data": {
      "text/plain": [
       "['survived',\n",
       " 'pclass',\n",
       " 'sex',\n",
       " 'age',\n",
       " 'sibsp',\n",
       " 'parch',\n",
       " 'fare',\n",
       " 'embarked',\n",
       " 'class',\n",
       " 'who',\n",
       " 'adult_male',\n",
       " 'deck',\n",
       " 'embark_town',\n",
       " 'alive',\n",
       " 'alone']"
      ]
     },
     "execution_count": 6,
     "metadata": {},
     "output_type": "execute_result"
    }
   ],
   "source": [
    "'''To get the columns'''\n",
    "df.columns"
   ]
  },
  {
   "cell_type": "code",
   "execution_count": 7,
   "id": "c374680c",
   "metadata": {},
   "outputs": [
    {
     "name": "stdout",
     "output_type": "stream",
     "text": [
      "+-------+-------------------+------------------+------+------------------+------------------+-------------------+-----------------+--------+-----+-----+----------+----+-----------+-----+-----+\n",
      "|summary|           survived|            pclass|   sex|               age|             sibsp|              parch|             fare|embarked|class|  who|adult_male|deck|embark_town|alive|alone|\n",
      "+-------+-------------------+------------------+------+------------------+------------------+-------------------+-----------------+--------+-----+-----+----------+----+-----------+-----+-----+\n",
      "|  count|                891|               891|   891|               714|               891|                891|              891|     889|  891|  891|       891| 203|        889|  891|  891|\n",
      "|   mean| 0.3838383838383838| 2.308641975308642|  null| 29.69911764705882|0.5230078563411896|0.38159371492704824| 32.2042079685746|    null| null| null|      null|null|       null| null| null|\n",
      "| stddev|0.48659245426485753|0.8360712409770491|  null|14.526497332334035|1.1027434322934315| 0.8060572211299488|49.69342859718089|    null| null| null|      null|null|       null| null| null|\n",
      "|    min|                  0|                 1|female|              0.42|                 0|                  0|              0.0|       C|First|child|     False|   A|  Cherbourg|   no|False|\n",
      "|    max|                  1|                 3|  male|               9.0|                 8|                  6|             93.5|       S|Third|woman|      True|   G|Southampton|  yes| True|\n",
      "+-------+-------------------+------------------+------+------------------+------------------+-------------------+-----------------+--------+-----+-----+----------+----+-----------+-----+-----+\n",
      "\n"
     ]
    }
   ],
   "source": [
    "'''To get the statistics '''\n",
    "df.describe().show()"
   ]
  },
  {
   "cell_type": "code",
   "execution_count": 8,
   "id": "c69bde22",
   "metadata": {},
   "outputs": [
    {
     "data": {
      "text/plain": [
       "Row(survived='0', pclass='3', sex='male', age='22.0', sibsp='1', parch='0', fare='7.25', embarked='S', class='Third', who='man', adult_male='True', deck=None, embark_town='Southampton', alive='no', alone='False')"
      ]
     },
     "execution_count": 8,
     "metadata": {},
     "output_type": "execute_result"
    }
   ],
   "source": [
    "'''use of head to get first row'''\n",
    "df.head()"
   ]
  },
  {
   "cell_type": "code",
   "execution_count": 9,
   "id": "ff8cbc2c",
   "metadata": {},
   "outputs": [
    {
     "data": {
      "text/plain": [
       "[Row(survived='0', pclass='3', sex='male', age='22.0', sibsp='1', parch='0', fare='7.25', embarked='S', class='Third', who='man', adult_male='True', deck=None, embark_town='Southampton', alive='no', alone='False'),\n",
       " Row(survived='1', pclass='1', sex='female', age='38.0', sibsp='1', parch='0', fare='71.2833', embarked='C', class='First', who='woman', adult_male='False', deck='C', embark_town='Cherbourg', alive='yes', alone='False'),\n",
       " Row(survived='1', pclass='3', sex='female', age='26.0', sibsp='0', parch='0', fare='7.925', embarked='S', class='Third', who='woman', adult_male='False', deck=None, embark_town='Southampton', alive='yes', alone='True'),\n",
       " Row(survived='1', pclass='1', sex='female', age='35.0', sibsp='1', parch='0', fare='53.1', embarked='S', class='First', who='woman', adult_male='False', deck='C', embark_town='Southampton', alive='yes', alone='False'),\n",
       " Row(survived='0', pclass='3', sex='male', age='35.0', sibsp='0', parch='0', fare='8.05', embarked='S', class='Third', who='man', adult_male='True', deck=None, embark_town='Southampton', alive='no', alone='True')]"
      ]
     },
     "execution_count": 9,
     "metadata": {},
     "output_type": "execute_result"
    }
   ],
   "source": [
    "'''using head() to get first 5 rows'''\n",
    "df.head(5)"
   ]
  },
  {
   "cell_type": "code",
   "execution_count": 5,
   "id": "6f2e9d46",
   "metadata": {},
   "outputs": [
    {
     "name": "stdout",
     "output_type": "stream",
     "text": [
      "+--------+------+------+----+-----+-----+-------+--------+-----+-----+----------+----+-----------+-----+-----+--------+\n",
      "|survived|pclass|   sex| age|sibsp|parch|   fare|embarked|class|  who|adult_male|deck|embark_town|alive|alone|New Fare|\n",
      "+--------+------+------+----+-----+-----+-------+--------+-----+-----+----------+----+-----------+-----+-----+--------+\n",
      "|       0|     3|  male|22.0|    1|    0|   7.25|       S|Third|  man|      True|null|Southampton|   no|False|    7.25|\n",
      "|       1|     1|female|38.0|    1|    0|71.2833|       C|First|woman|     False|   C|  Cherbourg|  yes|False| 71.2833|\n",
      "+--------+------+------+----+-----+-----+-------+--------+-----+-----+----------+----+-----------+-----+-----+--------+\n",
      "only showing top 2 rows\n",
      "\n"
     ]
    }
   ],
   "source": [
    "'''create new column with values of fare column'''\n",
    "df.withColumn('New Fare',df['fare']).show(2)\n",
    "                                        "
   ]
  },
  {
   "cell_type": "code",
   "execution_count": 6,
   "id": "93550f4f",
   "metadata": {},
   "outputs": [
    {
     "name": "stdout",
     "output_type": "stream",
     "text": [
      "+--------+------+------+----+-----+-----+------------+--------+------+-----+----------+----+-----------+-----+-----+\n",
      "|survived|pclass|   sex| age|sibsp|parch|Fare_changed|embarked| class|  who|adult_male|deck|embark_town|alive|alone|\n",
      "+--------+------+------+----+-----+-----+------------+--------+------+-----+----------+----+-----------+-----+-----+\n",
      "|       0|     3|  male|22.0|    1|    0|        7.25|       S| Third|  man|      True|null|Southampton|   no|False|\n",
      "|       1|     1|female|38.0|    1|    0|     71.2833|       C| First|woman|     False|   C|  Cherbourg|  yes|False|\n",
      "|       1|     3|female|26.0|    0|    0|       7.925|       S| Third|woman|     False|null|Southampton|  yes| True|\n",
      "|       1|     1|female|35.0|    1|    0|        53.1|       S| First|woman|     False|   C|Southampton|  yes|False|\n",
      "|       0|     3|  male|35.0|    0|    0|        8.05|       S| Third|  man|      True|null|Southampton|   no| True|\n",
      "|       0|     3|  male|null|    0|    0|      8.4583|       Q| Third|  man|      True|null| Queenstown|   no| True|\n",
      "|       0|     1|  male|54.0|    0|    0|     51.8625|       S| First|  man|      True|   E|Southampton|   no| True|\n",
      "|       0|     3|  male| 2.0|    3|    1|      21.075|       S| Third|child|     False|null|Southampton|   no|False|\n",
      "|       1|     3|female|27.0|    0|    2|     11.1333|       S| Third|woman|     False|null|Southampton|  yes|False|\n",
      "|       1|     2|female|14.0|    1|    0|     30.0708|       C|Second|child|     False|null|  Cherbourg|  yes|False|\n",
      "|       1|     3|female| 4.0|    1|    1|        16.7|       S| Third|child|     False|   G|Southampton|  yes|False|\n",
      "|       1|     1|female|58.0|    0|    0|       26.55|       S| First|woman|     False|   C|Southampton|  yes| True|\n",
      "|       0|     3|  male|20.0|    0|    0|        8.05|       S| Third|  man|      True|null|Southampton|   no| True|\n",
      "|       0|     3|  male|39.0|    1|    5|      31.275|       S| Third|  man|      True|null|Southampton|   no|False|\n",
      "|       0|     3|female|14.0|    0|    0|      7.8542|       S| Third|child|     False|null|Southampton|   no| True|\n",
      "|       1|     2|female|55.0|    0|    0|        16.0|       S|Second|woman|     False|null|Southampton|  yes| True|\n",
      "|       0|     3|  male| 2.0|    4|    1|      29.125|       Q| Third|child|     False|null| Queenstown|   no|False|\n",
      "|       1|     2|  male|null|    0|    0|        13.0|       S|Second|  man|      True|null|Southampton|  yes| True|\n",
      "|       0|     3|female|31.0|    1|    0|        18.0|       S| Third|woman|     False|null|Southampton|   no|False|\n",
      "|       1|     3|female|null|    0|    0|       7.225|       C| Third|woman|     False|null|  Cherbourg|  yes| True|\n",
      "+--------+------+------+----+-----+-----+------------+--------+------+-----+----------+----+-----------+-----+-----+\n",
      "only showing top 20 rows\n",
      "\n"
     ]
    }
   ],
   "source": [
    "'''To rename the column fare with Fare_changed'''\n",
    "df.withColumnRenamed('fare','Fare_changed').show()"
   ]
  },
  {
   "cell_type": "code",
   "execution_count": 7,
   "id": "0fd1e066",
   "metadata": {},
   "outputs": [
    {
     "name": "stdout",
     "output_type": "stream",
     "text": [
      "+----+------+-----+\n",
      "| age| class|  who|\n",
      "+----+------+-----+\n",
      "|22.0| Third|  man|\n",
      "|38.0| First|woman|\n",
      "|26.0| Third|woman|\n",
      "|35.0| First|woman|\n",
      "|35.0| Third|  man|\n",
      "|null| Third|  man|\n",
      "|54.0| First|  man|\n",
      "| 2.0| Third|child|\n",
      "|27.0| Third|woman|\n",
      "|14.0|Second|child|\n",
      "| 4.0| Third|child|\n",
      "|58.0| First|woman|\n",
      "|20.0| Third|  man|\n",
      "|39.0| Third|  man|\n",
      "|14.0| Third|child|\n",
      "|55.0|Second|woman|\n",
      "| 2.0| Third|child|\n",
      "|null|Second|  man|\n",
      "|31.0| Third|woman|\n",
      "|null| Third|woman|\n",
      "+----+------+-----+\n",
      "only showing top 20 rows\n",
      "\n"
     ]
    }
   ],
   "source": [
    "df.select(\"age\",\"class\",\"who\").show()"
   ]
  },
  {
   "cell_type": "code",
   "execution_count": 8,
   "id": "da939f26",
   "metadata": {},
   "outputs": [
    {
     "name": "stdout",
     "output_type": "stream",
     "text": [
      "+----+-----+\n",
      "| Age|count|\n",
      "+----+-----+\n",
      "| 1.0|    7|\n",
      "|20.5|    1|\n",
      "|0.75|    2|\n",
      "|50.0|   10|\n",
      "|22.0|   27|\n",
      "|65.0|    3|\n",
      "|38.0|   11|\n",
      "|66.0|    1|\n",
      "|20.0|   15|\n",
      "|15.0|    5|\n",
      "|45.0|   12|\n",
      "|24.5|    1|\n",
      "|47.0|    9|\n",
      "|70.5|    1|\n",
      "|44.0|    9|\n",
      "|63.0|    2|\n",
      "|25.0|   23|\n",
      "|30.5|    2|\n",
      "|26.0|   18|\n",
      "|null|  177|\n",
      "+----+-----+\n",
      "only showing top 20 rows\n",
      "\n"
     ]
    }
   ],
   "source": [
    "'''get the count, grouped by age '''\n",
    "df.groupBy(\"Age\").count().show()"
   ]
  },
  {
   "cell_type": "code",
   "execution_count": 10,
   "id": "96f8306a",
   "metadata": {},
   "outputs": [],
   "source": [
    "'''To create the table named as Table'''\n",
    "df.createOrReplaceTempView(\"Table\")\n"
   ]
  },
  {
   "cell_type": "code",
   "execution_count": 11,
   "id": "1ca15f0b",
   "metadata": {},
   "outputs": [
    {
     "name": "stdout",
     "output_type": "stream",
     "text": [
      "+--------+------+------+----+\n",
      "|survived|pclass|   sex| age|\n",
      "+--------+------+------+----+\n",
      "|       0|     3|  male|22.0|\n",
      "|       1|     1|female|38.0|\n",
      "|       1|     3|female|26.0|\n",
      "|       1|     1|female|35.0|\n",
      "|       0|     3|  male|35.0|\n",
      "|       0|     3|  male|null|\n",
      "|       0|     1|  male|54.0|\n",
      "|       0|     3|  male| 2.0|\n",
      "|       1|     3|female|27.0|\n",
      "|       1|     2|female|14.0|\n",
      "|       1|     3|female| 4.0|\n",
      "|       1|     1|female|58.0|\n",
      "|       0|     3|  male|20.0|\n",
      "|       0|     3|  male|39.0|\n",
      "|       0|     3|female|14.0|\n",
      "|       1|     2|female|55.0|\n",
      "|       0|     3|  male| 2.0|\n",
      "|       1|     2|  male|null|\n",
      "|       0|     3|female|31.0|\n",
      "|       1|     3|female|null|\n",
      "+--------+------+------+----+\n",
      "only showing top 20 rows\n",
      "\n"
     ]
    }
   ],
   "source": [
    "'''To select columns from Table'''\n",
    "df_sql = spark.sql(\"select survived,pclass,sex,age from Table\")\n",
    "df_sql.show()"
   ]
  },
  {
   "cell_type": "code",
   "execution_count": 13,
   "id": "4cc45d9c",
   "metadata": {
    "scrolled": true
   },
   "outputs": [
    {
     "name": "stdout",
     "output_type": "stream",
     "text": [
      "+------+----+------+\n",
      "|pclass| age|   sex|\n",
      "+------+----+------+\n",
      "|     3|22.0|  male|\n",
      "|     1|38.0|female|\n",
      "|     3|26.0|female|\n",
      "|     1|35.0|female|\n",
      "|     3|35.0|  male|\n",
      "|     1|54.0|  male|\n",
      "|     3|27.0|female|\n",
      "|     1|58.0|female|\n",
      "|     3|20.0|  male|\n",
      "|     3|39.0|  male|\n",
      "|     2|55.0|female|\n",
      "|     3|31.0|female|\n",
      "|     2|35.0|  male|\n",
      "|     2|34.0|  male|\n",
      "|     3|15.0|female|\n",
      "|     1|28.0|  male|\n",
      "|     3|38.0|female|\n",
      "|     1|19.0|  male|\n",
      "|     1|40.0|  male|\n",
      "|     2|66.0|  male|\n",
      "+------+----+------+\n",
      "only showing top 20 rows\n",
      "\n"
     ]
    }
   ],
   "source": [
    "'''To select columns from table where age is greater than 14'''\n",
    "df_sql = spark.sql(\"select pclass,age,sex from Table where age > 14\")\n",
    "df_sql.show()"
   ]
  }
 ],
 "metadata": {
  "kernelspec": {
   "display_name": "Python 3 (ipykernel)",
   "language": "python",
   "name": "python3"
  },
  "language_info": {
   "codemirror_mode": {
    "name": "ipython",
    "version": 3
   },
   "file_extension": ".py",
   "mimetype": "text/x-python",
   "name": "python",
   "nbconvert_exporter": "python",
   "pygments_lexer": "ipython3",
   "version": "3.8.10"
  }
 },
 "nbformat": 4,
 "nbformat_minor": 5
}
